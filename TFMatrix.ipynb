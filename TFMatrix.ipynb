{
  "nbformat": 4,
  "nbformat_minor": 0,
  "metadata": {
    "colab": {
      "name": "TFMatrix.ipynb",
      "provenance": [],
      "authorship_tag": "ABX9TyMKv2eoWcYtHwvPUKqnTMw4",
      "include_colab_link": true
    },
    "kernelspec": {
      "name": "python3",
      "display_name": "Python 3"
    }
  },
  "cells": [
    {
      "cell_type": "markdown",
      "metadata": {
        "id": "view-in-github",
        "colab_type": "text"
      },
      "source": [
        "<a href=\"https://colab.research.google.com/github/djfamily/PR-report1/blob/master/TFMatrix.ipynb\" target=\"_parent\"><img src=\"https://colab.research.google.com/assets/colab-badge.svg\" alt=\"Open In Colab\"/></a>"
      ]
    },
    {
      "cell_type": "code",
      "metadata": {
        "id": "wAv97_z_P3NO",
        "colab_type": "code",
        "colab": {}
      },
      "source": [
        "!pip uninstall tensorflow\n",
        "!pip install --upgrade pip\n",
        "!pip install tensorflow\n",
        "!pip install tensorflow-gpu"
      ],
      "execution_count": 0,
      "outputs": []
    },
    {
      "cell_type": "code",
      "metadata": {
        "id": "0i5dMMSlQuxv",
        "colab_type": "code",
        "colab": {
          "base_uri": "https://localhost:8080/",
          "height": 71
        },
        "outputId": "0d32f207-fa49-4fa8-e215-c793b7e52fc4"
      },
      "source": [
        "import tensorflow as tf\n",
        "# 텐서 생성\n",
        "a = tf.constant([ [1.0, 2.0, 3.0], [4.0, 5.0, 6.0] ])\n",
        "b = tf.constant([ [1.0, 2.0, 3.0], [4.0, 5.0, 6.0] ])\n",
        "c = a + b\n",
        "print(c)"
      ],
      "execution_count": 10,
      "outputs": [
        {
          "output_type": "stream",
          "text": [
            "tf.Tensor(\n",
            "[[ 2.  4.  6.]\n",
            " [ 8. 10. 12.]], shape=(2, 3), dtype=float32)\n"
          ],
          "name": "stdout"
        }
      ]
    }
  ]
}